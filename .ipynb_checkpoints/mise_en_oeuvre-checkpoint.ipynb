{
 "cells": [
  {
   "cell_type": "code",
   "execution_count": 6,
   "metadata": {},
   "outputs": [],
   "source": [
    "from jeu import *\n",
    "D = 10\n",
    "M = 100\n",
    "strat = {\"aveugle\": pb.max_esp, \"optimale\": choose_optimale, \"aleatoire\": choose_aleatoire}\n",
    "nb_parties = 1000"
   ]
  },
  {
   "cell_type": "code",
   "execution_count": null,
   "metadata": {
    "pycharm": {
     "is_executing": false
    }
   },
   "outputs": [],
   "source": [
    "player1 = strat[\"optimale\"]\n",
    "player2 = strat[\"aleatoire\"]\n",
    "\n",
    "resultats = metaloopSeq(nb_parties, player1, player2, M, D)\n",
    "print(resultats)\n",
    "print((resultats[0] / nb_parties) - (resultats[1] / nb_parties))\n"
   ]
  },
  {
   "cell_type": "code",
   "execution_count": 3,
   "metadata": {
    "pycharm": {
     "is_executing": false,
     "name": "#%%\n"
    }
   },
   "outputs": [
    {
     "name": "stdout",
     "output_type": "stream",
     "text": [
      "(474, 526)\n",
      "-0.052000000000000046\n"
     ]
    }
   ],
   "source": [
    "player1 = strat[\"aveugle\"]\n",
    "player2 = strat[\"optimale\"]\n",
    "\n",
    "resultats = metaloopSeq(nb_parties, player1, player2, M, D)\n",
    "print(resultats)\n",
    "print((resultats[0] / nb_parties) - (resultats[1] / nb_parties))\n"
   ]
  },
  {
   "cell_type": "code",
   "execution_count": 4,
   "metadata": {
    "pycharm": {
     "is_executing": false,
     "name": "#%%\n"
    }
   },
   "outputs": [
    {
     "name": "stdout",
     "output_type": "stream",
     "text": [
      "(547, 453)\n",
      "0.09400000000000003\n"
     ]
    }
   ],
   "source": [
    "player1 = strat[\"aveugle\"]\n",
    "player2 = strat[\"aveugle\"]\n",
    "\n",
    "resultats = metaloopSeq(nb_parties, player1, player2, M, D)\n",
    "print(resultats)\n",
    "print((resultats[0] / nb_parties) - (resultats[1] / nb_parties))\n",
    "\n",
    "\n"
   ]
  },
  {
   "cell_type": "code",
   "execution_count": 5,
   "metadata": {
    "pycharm": {
     "is_executing": false,
     "name": "#%%\n"
    }
   },
   "outputs": [
    {
     "name": "stdout",
     "output_type": "stream",
     "text": [
      "(539, 461)\n",
      "0.07800000000000001\n"
     ]
    }
   ],
   "source": [
    "player1 = strat[\"aleatoire\"]\n",
    "player2 = strat[\"aleatoire\"]\n",
    "\n",
    "resultats = metaloopSeq(nb_parties, player1, player2, M, D)\n",
    "print(resultats)\n",
    "print((resultats[0] / nb_parties) - (resultats[1] / nb_parties))\n"
   ]
  }
 ],
 "metadata": {
  "kernelspec": {
   "display_name": "Python 3",
   "language": "python",
   "name": "python3"
  },
  "language_info": {
   "codemirror_mode": {
    "name": "ipython",
    "version": 3
   },
   "file_extension": ".py",
   "mimetype": "text/x-python",
   "name": "python",
   "nbconvert_exporter": "python",
   "pygments_lexer": "ipython3",
   "version": "3.7.3"
  },
  "pycharm": {
   "stem_cell": {
    "cell_type": "raw",
    "metadata": {
     "collapsed": false
    },
    "source": []
   }
  }
 },
 "nbformat": 4,
 "nbformat_minor": 1
}
