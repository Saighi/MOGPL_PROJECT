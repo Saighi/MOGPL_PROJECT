{
 "cells": [
  {
   "cell_type": "code",
   "execution_count": 1,
   "metadata": {
    "collapsed": true,
    "pycharm": {
     "is_executing": false
    }
   },
   "outputs": [
    {
     "name": "stdout",
     "text": [
      "(728, 272)\n",
      "0.45599999999999996\n"
     ],
     "output_type": "stream"
    }
   ],
   "source": [
    "from jeu import *\n",
    "\n",
    "D = 10\n",
    "M = 100\n",
    "strat = {\"aveugle\": pb.max_esp, \"optimale\": choose_optimale, \"aleatoire\": choose_aleatoire}\n",
    "player1 = strat[\"optimale\"]\n",
    "player2 = strat[\"aleatoire\"]\n",
    "nb_parties = 1000\n",
    "\n",
    "resultats = metaloopSeq(nb_parties, player1, player2, M, D)\n",
    "print(resultats)\n",
    "print((resultats[0] / nb_parties) - (resultats[1] / nb_parties))\n"
   ]
  },
  {
   "cell_type": "code",
   "execution_count": 1,
   "outputs": [
    {
     "name": "stdout",
     "text": [
      "(475, 525)\n-0.050000000000000044\n"
     ],
     "output_type": "stream"
    }
   ],
   "source": [
    "from jeu import *\n",
    "\n",
    "D = 10\n",
    "M = 100\n",
    "strat = {\"aveugle\": pb.max_esp, \"optimale\": choose_optimale, \"aleatoire\": choose_aleatoire}\n",
    "player1 = strat[\"aveugle\"]\n",
    "player2 = strat[\"optimale\"]\n",
    "nb_parties = 1000\n",
    "\n",
    "resultats = metaloopSeq(nb_parties, player1, player2, M, D)\n",
    "print(resultats)\n",
    "print((resultats[0] / nb_parties) - (resultats[1] / nb_parties))\n"
   ],
   "metadata": {
    "collapsed": false,
    "pycharm": {
     "name": "#%%\n",
     "is_executing": false
    }
   }
  },
  {
   "cell_type": "code",
   "execution_count": 3,
   "outputs": [
    {
     "name": "stdout",
     "text": [
      "(525, 475)\n",
      "0.050000000000000044\n"
     ],
     "output_type": "stream"
    }
   ],
   "source": [
    "from jeu import *\n",
    "\n",
    "D = 10\n",
    "M = 100\n",
    "strat = {\"aveugle\": pb.max_esp, \"optimale\": choose_optimale, \"aleatoire\": choose_aleatoire}\n",
    "player1 = strat[\"aveugle\"]\n",
    "player2 = strat[\"aveugle\"]\n",
    "nb_parties = 1000\n",
    "\n",
    "resultats = metaloopSeq(nb_parties, player1, player2, M, D)\n",
    "print(resultats)\n",
    "print((resultats[0] / nb_parties) - (resultats[1] / nb_parties))\n",
    "\n",
    "\n"
   ],
   "metadata": {
    "collapsed": false,
    "pycharm": {
     "name": "#%%\n",
     "is_executing": false
    }
   }
  },
  {
   "cell_type": "code",
   "execution_count": 4,
   "outputs": [
    {
     "name": "stdout",
     "text": [
      "(510, 490)\n",
      "0.020000000000000018\n"
     ],
     "output_type": "stream"
    }
   ],
   "source": [
    "from jeu import *\n",
    "\n",
    "D = 10\n",
    "M = 100\n",
    "strat = {\"aveugle\": pb.max_esp, \"optimale\": choose_optimale, \"aleatoire\": choose_aleatoire}\n",
    "player1 = strat[\"aleatoire\"]\n",
    "player2 = strat[\"aleatoire\"]\n",
    "nb_parties = 1000\n",
    "\n",
    "resultats = metaloopSeq(nb_parties, player1, player2, M, D)\n",
    "print(resultats)\n",
    "print((resultats[0] / nb_parties) - (resultats[1] / nb_parties))\n",
    "\n",
    "\n",
    "\n"
   ],
   "metadata": {
    "collapsed": false,
    "pycharm": {
     "name": "#%%\n",
     "is_executing": false
    }
   }
  }
 ],
 "metadata": {
  "kernelspec": {
   "display_name": "Python 3",
   "language": "python",
   "name": "python3"
  },
  "language_info": {
   "codemirror_mode": {
    "name": "ipython",
    "version": 2
   },
   "file_extension": ".py",
   "mimetype": "text/x-python",
   "name": "python",
   "nbconvert_exporter": "python",
   "pygments_lexer": "ipython2",
   "version": "2.7.6"
  },
  "pycharm": {
   "stem_cell": {
    "cell_type": "raw",
    "source": [],
    "metadata": {
     "collapsed": false
    }
   }
  }
 },
 "nbformat": 4,
 "nbformat_minor": 0
}