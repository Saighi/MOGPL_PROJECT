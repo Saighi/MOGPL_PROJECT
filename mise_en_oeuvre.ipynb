{
 "cells": [
  {
   "cell_type": "markdown",
   "source": [
    "Mise en oeuvre séquentielle (Q8)"
   ],
   "metadata": {
    "collapsed": false
   }
  },
  {
   "cell_type": "code",
   "execution_count": 6,
   "metadata": {},
   "outputs": [],
   "source": [
    "from jeu import *\n",
    "D = 10\n",
    "M = 100\n",
    "strat = {\"aveugle\": pb.max_esp, \"optimale\": choose_optimale, \"aleatoire\": choose_aleatoire}\n",
    "nb_parties = 1000"
   ]
  },
  {
   "cell_type": "code",
   "execution_count": 7,
   "metadata": {
    "pycharm": {
     "is_executing": false
    }
   },
   "outputs": [
    {
     "name": "stdout",
     "output_type": "stream",
     "text": [
      "(693, 307)\n0.38599999999999995\n"
     ]
    }
   ],
   "source": [
    "player1 = strat[\"optimale\"]\n",
    "player2 = strat[\"aleatoire\"]\n",
    "\n",
    "resultats = metaloopSeq(nb_parties, player1, player2, M, D)\n",
    "print(resultats)\n",
    "print((resultats[0] / nb_parties) - (resultats[1] / nb_parties))\n"
   ]
  },
  {
   "cell_type": "code",
   "execution_count": 3,
   "metadata": {
    "pycharm": {
     "is_executing": false,
     "name": "#%%\n"
    }
   },
   "outputs": [
    {
     "name": "stdout",
     "output_type": "stream",
     "text": [
      "(485, 515)\n-0.030000000000000027\n"
     ]
    }
   ],
   "source": [
    "player1 = strat[\"aveugle\"]\n",
    "player2 = strat[\"optimale\"]\n",
    "\n",
    "resultats = metaloopSeq(nb_parties, player1, player2, M, D)\n",
    "print(resultats)\n",
    "print((resultats[0] / nb_parties) - (resultats[1] / nb_parties))\n"
   ]
  },
  {
   "cell_type": "code",
   "execution_count": 4,
   "metadata": {
    "pycharm": {
     "is_executing": false,
     "name": "#%%\n"
    }
   },
   "outputs": [
    {
     "name": "stdout",
     "output_type": "stream",
     "text": [
      "(547, 453)\n",
      "0.09400000000000003\n"
     ]
    }
   ],
   "source": [
    "player1 = strat[\"aveugle\"]\n",
    "player2 = strat[\"aveugle\"]\n",
    "\n",
    "resultats = metaloopSeq(nb_parties, player1, player2, M, D)\n",
    "print(resultats)\n",
    "print((resultats[0] / nb_parties) - (resultats[1] / nb_parties))\n",
    "\n",
    "\n"
   ]
  },
  {
   "cell_type": "code",
   "execution_count": 5,
   "metadata": {
    "collapsed": false,
    "pycharm": {
     "name": "#%%\n",
     "is_executing": false
    }
   },
   "outputs": [
    {
     "name": "stdout",
     "output_type": "stream",
     "text": [
      "(539, 461)\n",
      "0.07800000000000001\n"
     ]
    }
   ],
   "source": [
    "player1 = strat[\"aleatoire\"]\n",
    "player2 = strat[\"aleatoire\"]\n",
    "\n",
    "resultats = metaloopSeq(nb_parties, player1, player2, M, D)\n",
    "print(resultats)\n",
    "print((resultats[0] / nb_parties) - (resultats[1] / nb_parties))\n",
    "\n",
    "\n"
   ]
  },
  {
   "cell_type": "markdown",
   "source": [
    "## Parties Simultanées"
   ],
   "metadata": {
    "collapsed": false
   }
  },
  {
   "cell_type": "code",
   "execution_count": 12,
   "outputs": [],
   "source": [
    "from jeu import *\n",
    "\n",
    "from gurobi_optimisation import *\n",
    "\n",
    "D=10\n",
    "V1 = strat_opt_simu(D)\n",
    "V2 = np.zeros(D)\n",
    "V2[2]=1\n"
   ],
   "metadata": {
    "collapsed": false,
    "pycharm": {
     "name": "#%%\n",
     "is_executing": false
    }
   }
  },
  {
   "cell_type": "code",
   "execution_count": 13,
   "outputs": [
    {
     "name": "stdout",
     "text": [
      "0.0014247807275531432\n",
      "0.5007123903637766\n"
     ],
     "output_type": "stream"
    }
   ],
   "source": [
    "nb_parties=100000\n",
    "resultats = simulation_simul(nb_parties, D, V1, V2)\n",
    "nb_notnull_parties=nb_parties-resultats[2]\n",
    "print((resultats[0] / nb_notnull_parties) - (resultats[1] / nb_notnull_parties))\n",
    "print(resultats[0]/nb_notnull_parties)"
   ],
   "metadata": {
    "collapsed": false,
    "pycharm": {
     "name": "#%%\n",
     "is_executing": false
    }
   }
  }
 ],
 "metadata": {
  "kernelspec": {
   "display_name": "Python 3",
   "language": "python",
   "name": "python3"
  },
  "language_info": {
   "codemirror_mode": {
    "name": "ipython",
    "version": 3
   },
   "file_extension": ".py",
   "mimetype": "text/x-python",
   "name": "python",
   "nbconvert_exporter": "python",
   "pygments_lexer": "ipython3",
   "version": "3.7.3"
  },
  "pycharm": {
   "stem_cell": {
    "cell_type": "raw",
    "source": [],
    "metadata": {
     "collapsed": false
    }
   }
  }
 },
 "nbformat": 4,
 "nbformat_minor": 1
}