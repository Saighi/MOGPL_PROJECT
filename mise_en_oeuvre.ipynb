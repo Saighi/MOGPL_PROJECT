{
 "cells": [
  {
   "cell_type": "code",
   "execution_count": 1,
   "metadata": {
    "collapsed": true,
    "pycharm": {
     "is_executing": false
    }
   },
   "outputs": [
    {
     "name": "stdout",
     "text": [
      "(693, 307)\n0.38599999999999995\n"
     ],
     "output_type": "stream"
    }
   ],
   "source": [
    "from jeu import *\n",
    "\n",
    "D = 10\n",
    "M = 100\n",
    "strat = {\"aveugle\": pb.max_esp, \"optimale\": choose_optimale, \"aleatoire\": choose_aleatoire}\n",
    "player1 = strat[\"optimale\"]\n",
    "player2 = strat[\"aleatoire\"]\n",
    "nb_parties = 1000\n",
    "\n",
    "resultats = metaloopSeq(nb_parties, player1, player2, M, D)\n",
    "print(resultats)\n",
    "print((resultats[0] / nb_parties) - (resultats[1] / nb_parties))\n"
   ]
  },
  {
   "cell_type": "code",
   "execution_count": 2,
   "outputs": [
    {
     "name": "stdout",
     "text": [
      "(485, 515)\n-0.030000000000000027\n"
     ],
     "output_type": "stream"
    }
   ],
   "source": [
    "from jeu import *\n",
    "\n",
    "D = 10\n",
    "M = 100\n",
    "strat = {\"aveugle\": pb.max_esp, \"optimale\": choose_optimale, \"aleatoire\": choose_aleatoire}\n",
    "player1 = strat[\"aveugle\"]\n",
    "player2 = strat[\"optimale\"]\n",
    "nb_parties = 1000\n",
    "\n",
    "resultats = metaloopSeq(nb_parties, player1, player2, M, D)\n",
    "print(resultats)\n",
    "print((resultats[0] / nb_parties) - (resultats[1] / nb_parties))\n"
   ],
   "metadata": {
    "collapsed": false,
    "pycharm": {
     "name": "#%%\n",
     "is_executing": false
    }
   }
  },
  {
   "cell_type": "code",
   "execution_count": 3,
   "outputs": [
    {
     "name": "stdout",
     "text": [
      "(525, 475)\n",
      "0.050000000000000044\n"
     ],
     "output_type": "stream"
    }
   ],
   "source": [
    "from jeu import *\n",
    "\n",
    "D = 10\n",
    "M = 100\n",
    "strat = {\"aveugle\": pb.max_esp, \"optimale\": choose_optimale, \"aleatoire\": choose_aleatoire}\n",
    "player1 = strat[\"aveugle\"]\n",
    "player2 = strat[\"aveugle\"]\n",
    "nb_parties = 1000\n",
    "\n",
    "resultats = metaloopSeq(nb_parties, player1, player2, M, D)\n",
    "print(resultats)\n",
    "print((resultats[0] / nb_parties) - (resultats[1] / nb_parties))\n",
    "\n",
    "\n"
   ],
   "metadata": {
    "collapsed": false,
    "pycharm": {
     "name": "#%%\n",
     "is_executing": false
    }
   }
  },
  {
   "cell_type": "code",
   "execution_count": 4,
   "outputs": [
    {
     "name": "stdout",
     "text": [
      "(510, 490)\n",
      "0.020000000000000018\n"
     ],
     "output_type": "stream"
    }
   ],
   "source": [
    "from jeu import *\n",
    "\n",
    "D = 10\n",
    "M = 100\n",
    "strat = {\"aveugle\": pb.max_esp, \"optimale\": choose_optimale, \"aleatoire\": choose_aleatoire}\n",
    "player1 = strat[\"aleatoire\"]\n",
    "player2 = strat[\"aleatoire\"]\n",
    "nb_parties = 1000\n",
    "\n",
    "resultats = metaloopSeq(nb_parties, player1, player2, M, D)\n",
    "print(resultats)\n",
    "print((resultats[0] / nb_parties) - (resultats[1] / nb_parties))\n",
    "\n",
    "\n"
   ],
   "metadata": {
    "collapsed": false,
    "pycharm": {
     "name": "#%%\n",
     "is_executing": false
    }
   }
  },
  {
   "cell_type": "markdown",
   "source": [
    "\n",
    "## Parties Simultanées"
   ],
   "metadata": {
    "collapsed": false
   }
  },
  {
   "cell_type": "code",
   "execution_count": 15,
   "outputs": [],
   "source": [
    "from jeu import *\n",
    "\n",
    "def simulation_simul(nb_parties, D, V1, V2):\n",
    "    win=0\n",
    "    loose=0\n",
    "    null = 0\n",
    "    dice_lance = np.zeros(D)\n",
    "    dice_lance2 = np.zeros(D)\n",
    "    for i in range(nb_parties):\n",
    "        Vc1= np.cumsum(V1)\n",
    "        d1 = np.where(Vc1 > np.random.rand(1)[0])[0][0]+1\n",
    "     \n",
    "        \n",
    "        Vc2= np.cumsum(V2)\n",
    "        d2 = np.where(Vc2 > np.random.rand(1)[0])[0][0]+1\n",
    "   \n",
    "        lance_d1 = dice(d1)\n",
    "        lance_d2 = dice(d2)\n",
    "        \n",
    "        if lance_d1>lance_d2:\n",
    "            win+=1\n",
    "        if lance_d1==lance_d2:\n",
    "            null+=1\n",
    "        if lance_d1<lance_d2:\n",
    "            loose+=1\n",
    "    return win,loose,null"
   ],
   "metadata": {
    "collapsed": false,
    "pycharm": {
     "name": "#%%\n",
     "is_executing": false
    }
   }
  },
  {
   "cell_type": "code",
   "execution_count": 3,
   "outputs": [
    {
     "name": "stdout",
     "text": [
      "Using license file /home/saighi/gurobi.lic\n",
      "Academic license - for non-commercial use only\n",
      "Warning for adding constraints: zero or small (< 1e-13) coefficients, ignored\n",
      "Gurobi Optimizer version 9.0.0 build v9.0.0rc2 (linux64)\n",
      "Optimize a model with 11 rows, 10 columns and 100 nonzeros\n",
      "Model fingerprint: 0x0bdc95b9\n",
      "Coefficient statistics:\n",
      "  Matrix range     [2e-03, 1e+00]\n",
      "  Objective range  [0e+00, 0e+00]\n",
      "  Bounds range     [0e+00, 0e+00]\n",
      "  RHS range        [1e+00, 1e+00]\n",
      "Presolve removed 1 rows and 0 columns\n",
      "Presolve time: 0.01s\n",
      "Presolved: 10 rows, 10 columns, 91 nonzeros\n",
      "\n",
      "Iteration    Objective       Primal Inf.    Dual Inf.      Time\n",
      "       0   -0.0000000e+00   1.406893e+00   0.000000e+00      0s\n",
      "       6   -0.0000000e+00   0.000000e+00   0.000000e+00      0s\n",
      "\n",
      "Solved in 6 iterations and 0.02 seconds\n",
      "Optimal objective -0.000000000e+00\n",
      "Warning for adding constraints: zero or small (< 1e-13) coefficients, ignored\n",
      "Gurobi Optimizer version 9.0.0 build v9.0.0rc2 (linux64)\n",
      "Optimize a model with 11 rows, 10 columns and 100 nonzeros\n",
      "Model fingerprint: 0x0bdc95b9\n",
      "Coefficient statistics:\n",
      "  Matrix range     [2e-03, 1e+00]\n",
      "  Objective range  [0e+00, 0e+00]\n",
      "  Bounds range     [0e+00, 0e+00]\n",
      "  RHS range        [1e+00, 1e+00]\n",
      "Presolve removed 1 rows and 0 columns\n",
      "Presolve time: 0.01s\n",
      "Presolved: 10 rows, 10 columns, 91 nonzeros\n",
      "\n",
      "Iteration    Objective       Primal Inf.    Dual Inf.      Time\n",
      "       0   -0.0000000e+00   1.406893e+00   0.000000e+00      0s\n",
      "       6   -0.0000000e+00   0.000000e+00   0.000000e+00      0s\n",
      "\n",
      "Solved in 6 iterations and 0.02 seconds\n",
      "Optimal objective -0.000000000e+00\n"
     ],
     "output_type": "stream"
    }
   ],
   "source": [
    "from gurobi_optimisation import *\n",
    "\n",
    "D=10\n",
    "V1 = strat_opt_simu(10)\n",
    "V2 = np.zeros(D)\n",
    "V2[5]=1\n"
   ],
   "metadata": {
    "collapsed": false,
    "pycharm": {
     "name": "#%%\n",
     "is_executing": false
    }
   }
  },
  {
   "cell_type": "code",
   "execution_count": 14,
   "outputs": [
    {
     "data": {
      "text/plain": "(32515,\n 30940,\n 36545,\n array([    0., 17542.,  5242.,     0., 77216.,     0.,     0.,     0.,\n            0.,     0.]),\n array([     0.,      0.,      0.,      0.,      0., 100000.,      0.,\n             0.,      0.,      0.]))"
     },
     "metadata": {},
     "output_type": "execute_result",
     "execution_count": 14
    }
   ],
   "source": [
    "resultats = simulation_simul(100000, D, V1, V2)\n",
    "resultats"
   ],
   "metadata": {
    "collapsed": false,
    "pycharm": {
     "name": "#%%\n",
     "is_executing": false
    }
   }
  }
 ],
 "metadata": {
  "kernelspec": {
   "display_name": "Python 3",
   "language": "python",
   "name": "python3"
  },
  "language_info": {
   "codemirror_mode": {
    "name": "ipython",
    "version": 2
   },
   "file_extension": ".py",
   "mimetype": "text/x-python",
   "name": "python",
   "nbconvert_exporter": "python",
   "pygments_lexer": "ipython2",
   "version": "2.7.6"
  },
  "pycharm": {
   "stem_cell": {
    "cell_type": "raw",
    "source": [],
    "metadata": {
     "collapsed": false
    }
   }
  }
 },
 "nbformat": 4,
 "nbformat_minor": 0
}